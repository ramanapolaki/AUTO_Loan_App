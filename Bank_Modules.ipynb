{
  "cells": [
    {
      "cell_type": "markdown",
      "metadata": {
        "id": "view-in-github",
        "colab_type": "text"
      },
      "source": [
        "<a href=\"https://colab.research.google.com/github/ramanapolaki/AUTO_Loan_App/blob/main/Bank_Modules.ipynb\" target=\"_parent\"><img src=\"https://colab.research.google.com/assets/colab-badge.svg\" alt=\"Open In Colab\"/></a>"
      ]
    },
    {
      "cell_type": "markdown",
      "metadata": {
        "id": "V7BT8O9g8J7_"
      },
      "source": [
        "# Banking Project Modules"
      ]
    },
    {
      "cell_type": "code",
      "execution_count": 18,
      "metadata": {
        "colab": {
          "base_uri": "https://localhost:8080/"
        },
        "id": "vVEFE6v5XJUf",
        "outputId": "f900abc6-90ea-43a2-ece0-541083297082"
      },
      "outputs": [
        {
          "output_type": "stream",
          "name": "stdout",
          "text": [
            "Requirement already satisfied: pyfiglet in /usr/local/lib/python3.10/dist-packages (1.0.2)\n"
          ]
        }
      ],
      "source": [
        "!pip install pyfiglet"
      ]
    },
    {
      "cell_type": "code",
      "execution_count": 19,
      "metadata": {
        "colab": {
          "base_uri": "https://localhost:8080/"
        },
        "id": "B3a19WZ6ThfZ",
        "outputId": "1e6be806-7bf4-4ed6-d61e-f7ab4bfc5638"
      },
      "outputs": [
        {
          "output_type": "stream",
          "name": "stdout",
          "text": [
            "Requirement already satisfied: pyfiglet in /usr/local/lib/python3.10/dist-packages (1.0.2)\n",
            "Requirement already satisfied: pytz in /usr/local/lib/python3.10/dist-packages (2023.4)\n",
            "Requirement already satisfied: colorama in /usr/local/lib/python3.10/dist-packages (0.4.6)\n"
          ]
        }
      ],
      "source": [
        "!pip install pyfiglet pytz colorama\n"
      ]
    },
    {
      "cell_type": "markdown",
      "metadata": {
        "id": "EZVmGdUtasER"
      },
      "source": [
        "# User Registration"
      ]
    },
    {
      "cell_type": "code",
      "execution_count": 15,
      "metadata": {
        "colab": {
          "base_uri": "https://localhost:8080/",
          "height": 110
        },
        "id": "Binghureaxsy",
        "outputId": "03b04737-9cfd-47fe-8042-483faaee9117"
      },
      "outputs": [
        {
          "output_type": "error",
          "ename": "SyntaxError",
          "evalue": "invalid syntax (<ipython-input-15-86e3933c6f27>, line 81)",
          "traceback": [
            "\u001b[0;36m  File \u001b[0;32m\"<ipython-input-15-86e3933c6f27>\"\u001b[0;36m, line \u001b[0;32m81\u001b[0m\n\u001b[0;31m    retuen True\u001b[0m\n\u001b[0m           ^\u001b[0m\n\u001b[0;31mSyntaxError\u001b[0m\u001b[0;31m:\u001b[0m invalid syntax\n"
          ]
        }
      ],
      "source": [
        "import time\n",
        "import random\n",
        "import string\n",
        "import pyfiglet\n",
        "from colorama import Fore, Style\n",
        "import threading\n",
        "\n",
        "def print_banner(text):\n",
        "    banner = pyfiglet.figlet_format(text)\n",
        "    print(banner)\n",
        "\n",
        "def generate_otp():\n",
        "    otp = ''.join(random.choices(string.digits, k=6))\n",
        "    timestamp = time.time()  # Record the time when OTP is generated\n",
        "    return otp, timestamp\n",
        "\n",
        "def timing(start_time, stop_event):\n",
        "    elapsed_time = 0\n",
        "    while elapsed_time < 60 and not stop_event.is_set():\n",
        "        elapsed_time = time.time() - start_time\n",
        "        remaining_time = 60 - elapsed_time\n",
        "        if remaining_time > 0:\n",
        "            print(\"\\rTime left to enter OTP: {:.0f} seconds\".format(remaining_time), end='')\n",
        "            time.sleep(1)\n",
        "        else:\n",
        "            print(\"\\rTime's up!\")\n",
        "            break\n",
        "    print()  # New line after the timer\n",
        "\n",
        "print_banner(\"----\\n WELCOME TO HDFC ONLINE BANKING SYSTEM -----\")\n",
        "print()\n",
        "\n",
        "user_credentials = {\n",
        "    \"Vijay\": {\n",
        "        \"Pwd\": \"vijay@1\",\n",
        "        \"mobile_number\": \"9987654321\",\n",
        "        \"date_of_birth\": \"1/2/2000\"\n",
        "    },\n",
        "    \"Saikumar\": {\n",
        "        \"Pwd\": \"sai@11\",\n",
        "        \"mobile_number\": \"9012345678\",\n",
        "        \"date_of_birth\": \"2/2/2000\"\n",
        "    },\n",
        "    \"Chandu\": {\n",
        "        \"Pwd\": \"chandu@1\",\n",
        "        \"mobile_number\": \"9567894322\",\n",
        "        \"date_of_birth\": \"3/3/2000\"\n",
        "    },\n",
        "    \"Prasad\": {\n",
        "        \"Pwd\": \"prasad@1\",\n",
        "        \"mobile_number\": \"9090667788\",\n",
        "        \"date_of_birth\": \"4/4/2000\"\n",
        "    },\n",
        "    \"Ramana\": {\n",
        "        \"Pwd\": \"ram@11\",\n",
        "        \"mobile_number\": \"9900887766\",\n",
        "        \"date_of_birth\": \"5/5/2000\"\n",
        "    }\n",
        "}\n",
        "\n",
        "while True:\n",
        "    try:\n",
        "        ch = input(\" \" * 43 + \"**** Please select below options *****\\n1.Registration \\n2.Login \\n3.Quit\\n\\n\")\n",
        "        print()\n",
        "\n",
        "        if ch == \"1\":\n",
        "            print(\" \" * 40 + \" *****  REGISTRATION *****  \")\n",
        "            username = input(\"Enter username: \")\n",
        "            if username in user_credentials:\n",
        "                print(\" \" * 25 + \"User already exists. Please choose a different username.\\n\")\n",
        "                continue\n",
        "            else:\n",
        "                user_details = {}\n",
        "                user_details[\"Name\"] = username\n",
        "                user_details[\"Father Name\"] = input(\"Father Name: \")\n",
        "                user_details[\"Mother Name\"] = input(\"Mother Name: \")\n",
        "                user_details[\"DOB\"] = input(\"DOB: \")\n",
        "                while True:\n",
        "                    password = input(\"Password (at least 6 characters): \")\n",
        "                    if len(password) < 6:\n",
        "                        print(\"Password must be at least 6 characters long. Please try again.\\n\")\n",
        "                    else:\n",
        "                        break\n",
        "                user_details[\"Pwd\"] = password\n",
        "                while True:\n",
        "                    mobile_no = input(\"Mobile Number (10 digits): \")\n",
        "                    if len(mobile_no) != 10 or not mobile_no.isdigit():\n",
        "                        print(Fore.RED + \"Invalid mobile number. Please enter valid mobile number.\\n\")\n",
        "                    else:\n",
        "                        break\n",
        "                user_details[\"Mobile No\"] = mobile_no\n",
        "\n",
        "                otp, otp_timestamp = generate_otp()\n",
        "                print(f\"Your OTP for verification is: {otp}\\n\")\n",
        "\n",
        "                stop_event = threading.Event()\n",
        "                start_time = time.time()\n",
        "                timing_thread = threading.Thread(target=timing, args=(start_time, stop_event))\n",
        "                timing_thread.start()\n",
        "\n",
        "                entered_otp = input(\"\\nEnter the OTP: \")\n",
        "                stop_event.set()\n",
        "                timing_thread.join()\n",
        "\n",
        "                if time.time() <= otp_timestamp + 60:\n",
        "                    if entered_otp == otp:\n",
        "                        user_credentials[username] = user_details\n",
        "                        print(Fore.GREEN+\" \" * 45 + \"Registration successful. \\U0001F603\\n\")\n",
        "                    else:\n",
        "                        print(Fore.RED + \"Invalid OTP. Registration failed. \\U0001F61F\\n\")\n",
        "                else:\n",
        "                    print(Fore.RED + \"Time expired. Registration failed. \\U0001F61F\\n\")\n",
        "\n",
        "        elif ch == \"2\":\n",
        "            print(\" \" * 40 + \" *****  LOGIN *****  \")\n",
        "            captcha = ''.join(random.choices(string.ascii_letters + string.digits, k=6))\n",
        "            username = input(\"Enter your username: \")\n",
        "            password = input(\"Enter your password: \")\n",
        "            entered_captcha = input(f\"Enter the captcha: {captcha}\\n\")\n",
        "\n",
        "            if username in user_credentials:\n",
        "                if user_credentials[username][\"Pwd\"] == password and entered_captcha.lower() == captcha.lower():\n",
        "                    print(f\" \" * 35 + f\"Login successful. Welcome back, {username}\\n\")\n",
        "                else:\n",
        "                    print(Fore.RED + \" \" * 35 + \"Invalid password or captcha. Please try again. \\U0001F61F\\n\")\n",
        "            else:\n",
        "                print(Fore.YELLOW + \" \" * 35 + \"Username not found. Please register first. \\U0001F61F\\n\")\n",
        "\n",
        "        elif ch == \"3\":\n",
        "            print(Fore.GREEN + \" \" * 40 + \"$$$$ Thank you for visiting! \\U0001F603  $$$$\")\n",
        "            break\n",
        "\n",
        "        else:\n",
        "            print(Fore.RED + \" \" * 45 + \"Invalid option. Please select again. \\U0001F61F\\n\")\n",
        "\n",
        "    except ValueError:\n",
        "        print(Fore.RED + \" \" * 25 + \"Invalid input. Please enter a valid option. \\U0001F61F\\n\")\n",
        "    except KeyError:\n",
        "        print(Fore.RED + \" \" * 25 + \"Key error occurred. Please try again. \\U0001F61F\\n\")\n",
        "    except NameError:\n",
        "        print(Fore.RED + \" \" * 25 + \"A NameError occurred. Please check your code and try again. \\U0001F61F\\n\")\n",
        "    except EOFError:\n",
        "        print(Fore.RED + \" \" * 25 + \"End of file (EOF) error occurred. Exiting... \\U0001F61F\\n\")\n",
        "        break\n",
        "    except KeyboardInterrupt:\n",
        "        print(Fore.RED + \" \" * 30 + \"KeyboardInterrupt occurred. Exiting... \\U0001F61F\\n\")\n",
        "        break\n"
      ]
    },
    {
      "cell_type": "markdown",
      "metadata": {
        "id": "yjt6IWxu8Xtg"
      },
      "source": [
        "# Reset password with captch"
      ]
    },
    {
      "cell_type": "code",
      "execution_count": 5,
      "metadata": {
        "colab": {
          "base_uri": "https://localhost:8080/"
        },
        "id": "QaJZVVPF8dPN",
        "outputId": "b1213c8a-2e1c-4134-b28e-13d4e57288d4"
      },
      "outputs": [
        {
          "output_type": "stream",
          "name": "stdout",
          "text": [
            "Enter username:Janaki\n",
            "Enter password: janaki@1\n",
            "Enter the captcha : SfHqGc\n",
            "SfHqGc\n",
            "\u001b[32m                              Login successful...! Welcome, Janaki😃\n"
          ]
        }
      ],
      "source": [
        "import random\n",
        "import string\n",
        "from colorama import Fore, Style\n",
        "\n",
        "max_attempts = 3\n",
        "attempt_count = 0\n",
        "\n",
        "while attempt_count < max_attempts:\n",
        "    captcha = ''.join(random.choices(string.ascii_letters + string.digits, k=6))\n",
        "    username = input(\"Enter username:\")\n",
        "    pwd = input(\"Enter password: \")\n",
        "    entered_captcha = input(f\"Enter the captcha : {captcha}\\n\")\n",
        "\n",
        "    if username in user_credentials:\n",
        "        if pwd == user_credentials[username][\"Pwd\"] and entered_captcha == captcha:\n",
        "            print(Fore.GREEN+\" \" * 30 + \"Login successful...! Welcome,\", username +\"\\U0001F603\")\n",
        "            break\n",
        "        else:\n",
        "            attempt_count += 1\n",
        "            remaining_attempts = max_attempts - attempt_count\n",
        "            if remaining_attempts > 0:\n",
        "                print(Fore.RED+\" \"*15+\"Invalid username, password, or captcha. Please try again.\", remaining_attempts, \"attempts remaining.\\U0001F61F\")\n",
        "                print()\n",
        "            else:\n",
        "                print(Fore.RED+\" \"*15+\"You have exceeded the maximum number of attempts. Please try again later.\")\n",
        "                ch = input(\" \"*15+\"Would you like to reset your password.? (y/n): \")\n",
        "                if ch == \"y\":\n",
        "                    new_pwd = input(\"Enter your new password: \")\n",
        "                    user_credentials[username][\"Pwd\"] = new_pwd  # Update entire user details\n",
        "                    print(Fore.GREEN+\"Password reset successful. You can login with your new password.\", username)\n",
        "                    attempt_count = 0  # Reset attempt count after password reset\n",
        "                else:\n",
        "                    print(\"Okay, try again later.\")\n",
        "    else:\n",
        "        print(Fore.RED+\" \" * 30 + \"Username not found. Please register first.\")\n",
        "        print()"
      ]
    },
    {
      "cell_type": "markdown",
      "metadata": {
        "id": "4Iez_n__Uxgd"
      },
      "source": [
        "# kyc -adhar number or pan or any id proof kyc - validation"
      ]
    },
    {
      "cell_type": "code",
      "execution_count": 9,
      "metadata": {
        "colab": {
          "base_uri": "https://localhost:8080/"
        },
        "id": "_F8h7UijUtby",
        "outputId": "a9668a64-3548-4193-a1fe-3452a0ba5f80"
      },
      "outputs": [
        {
          "output_type": "stream",
          "name": "stdout",
          "text": [
            "Enter your Aadhar number or PAN Number : KKJSL1234K\n",
            "Enter your branch: Hyd\n",
            "Enter your IFSC code: HDFC000202\n",
            "Enter type of account: Savings\n",
            "Enter your username: Janaki\n",
            "\n",
            "                    Account created successfully. Please verify your details \u001b[32m\n",
            "\n",
            "Account Number : 3894355393,\n",
            "Account Holder Name: Janaki,\n",
            "KYC Number: KKJSL1234K,\n",
            "Branch: Hyd,\n",
            "IFSC: HDFC000202,\n",
            "Account Type: Savings\n"
          ]
        }
      ],
      "source": [
        "import re\n",
        "import random\n",
        "from colorama import Fore, Style\n",
        "\n",
        "def validate_kyc(kyc, branch, ifsc, account_type):\n",
        "    aadhar_pattern = r'^\\d{12}$'\n",
        "    if re.match(aadhar_pattern, kyc):\n",
        "        return f\"Valid Aadhar number. Branch: {branch}, IFSC: {ifsc}, Account Type: {account_type}\"\n",
        "    else:\n",
        "       return (Fore.RED+\"Invalid KYC. Please provide a valid Aadhar Number.\\U0001F61F\")\n",
        "def validate_kyc(kyc,bracch, ifsc, account_type):\n",
        "    pan_pattern = r'^[A-Z]{5}\\d{4}[A-Z]$'\n",
        "    if re.match(pan_pattern, kyc):\n",
        "        return (f\"Valid PAN number. Branch: {branch}, IFSC: {ifsc}, Account Type: {account_type}\")\n",
        "    else:\n",
        "        return (Fore.RED+\"Invalid KYC. Please provide a valid Pan Number.\\U0001F61F\")\n",
        "\n",
        "kyc_number = input(\"Enter your Aadhar number or PAN Number : \")\n",
        "if len(kyc_number) == 12 and len(kyc_number) >0:\n",
        "  branch = input(\"Enter your branch: \")\n",
        "  ifsc = input(\"Enter your IFSC code: \")\n",
        "  account_type = input(\"Enter type of account: \")\n",
        "\n",
        "elif len(kyc_number) == 10 and len(kyc_number) >0:\n",
        "  branch = input(\"Enter your branch: \")\n",
        "  ifsc = input(\"Enter your IFSC code: \")\n",
        "  account_type = input(\"Enter type of account: \")\n",
        "\n",
        "else:\n",
        "  print(\"Please enter either  Aadhar number or Pan card\")\n",
        "validation_result = validate_kyc(kyc_number, branch, ifsc, account_type)\n",
        "\n",
        "# Check if KYC validation failed\n",
        "if \"Invalid KYC\" in validation_result:\n",
        "    print(validation_result)\n",
        "else:\n",
        "    username = input(\"Enter your username: \")\n",
        "    account_number = ''.join(str(random.randint(0, 9)) for i in range(10))\n",
        "    print()\n",
        "    print(\" \"*20+ f\"Account created successfully. Please verify your details {Fore.GREEN }\\n\\nAccount Number : {account_number},\\nAccount Holder Name: {username},\\nKYC Number: {kyc_number},\\nBranch: {branch},\\nIFSC: {ifsc},\\nAccount Type: {account_type}\")"
      ]
    },
    {
      "cell_type": "markdown",
      "metadata": {
        "id": "uYTSOklZ7_qY"
      },
      "source": []
    },
    {
      "cell_type": "markdown",
      "metadata": {
        "id": "S4IUJKbJQHpw"
      },
      "source": [
        "# Deposit and Withdraw Money to the user along with time and date"
      ]
    },
    {
      "source": [
        "from datetime import datetime\n",
        "import pytz\n",
        "from colorama import Fore, Style\n",
        "\n",
        "# Initialize balance here\n",
        "balance = 0.0\n",
        "\n",
        "def deposit_money(account_number, amount):\n",
        "    global balance  # Tell the function to use the global 'balance'\n",
        "    balance += amount  # Update the global balance\n",
        "    current_time = datetime.now(pytz.timezone('Asia/Kolkata')).strftime('%Y-%m-%d %I:%M:%S %p')\n",
        "    print(Fore.GREEN + f\"Deposited: {amount} \\U0001F4B0\\nAccount Number: {account_number}\\nAccount Holder: {username}\\n\"\n",
        "          f\"KYC Number: {kyc_number}\\nBranch: {branch}\\nIFSC: {ifsc}\\n\"\n",
        "          f\"Account Type: {account_type} at {current_time}\")\n",
        "    print(f\"Current Balance: {balance}\\n\")\n",
        "\n",
        "def withdraw_money(account_number, amount):\n",
        "    global balance  # Tell the function to use the global 'balance'\n",
        "    if amount > balance:\n",
        "        print(Fore.RED + \"Insufficient balance in the account.\\n\")\n",
        "    else:\n",
        "        balance -= amount  # Deduct the amount from the global balance\n",
        "        current_time = datetime.now(pytz.timezone('Asia/Kolkata')).strftime('%Y-%m-%d %I:%M:%S %p')\n",
        "        print(Fore.RED + f\"Debited: {amount} \\U0001F4B0\\nAccount Number: {account_number}\\nAccount Holder: {username}\\n\"\n",
        "              f\"KYC Number: {kyc_number}\\nBranch: {branch}\\nIFSC: {ifsc}\\n\"\n",
        "              f\"Account Type: {account_type} at {current_time}\")\n",
        "        print()\n",
        "        print(f\"Remaining Balance: {balance}\\U0001F4B0\\n\")\n",
        "while True:\n",
        "    print(\"Please select an options : \\n1. Deposit Money \\n2. Withdraw Money \\n3. Quit\")\n",
        "    ch = input(\"Enter your choice (1/2/3) :\")\n",
        "\n",
        "    if ch == \"1\":\n",
        "        print(\" \" * 40 + \"*** DEPOSIT MONEY ***\")\n",
        "        amount_to_deposit = float(input(\"Enter the amount to deposit: \"))\n",
        "        print()\n",
        "        deposit_money(account_number, amount_to_deposit)\n",
        "    elif ch == \"2\":\n",
        "        print(\" \" * 40 + \"*** WITHDRAW MONEY ***\")\n",
        "        amount_to_withdraw = float(input(\"Enter the amount to withdraw: \"))\n",
        "        print()\n",
        "        withdraw_money(account_number, amount_to_withdraw)\n",
        "    elif ch == \"3\":\n",
        "        print(Fore.GREEN + \" \" * 45 + \"Thank you for visiting! \\U0001F603\")\n",
        "        break\n",
        "    else:\n",
        "      print(Fore.RED + \" \" * 25 + \"Invalid option. Please select again. \\U0001F61F\\n\")"
      ],
      "cell_type": "code",
      "metadata": {
        "colab": {
          "base_uri": "https://localhost:8080/"
        },
        "id": "2aftONjnsZwO",
        "outputId": "dba3cc4a-8955-4e1b-8a47-ee6d7fcf4ed5"
      },
      "execution_count": 7,
      "outputs": [
        {
          "output_type": "stream",
          "name": "stdout",
          "text": [
            "Please select an options : \n",
            "1. Deposit Money \n",
            "2. Withdraw Money \n",
            "3. Quit\n",
            "Enter your choice (1/2/3) :1\n",
            "                                        *** DEPOSIT MONEY ***\n",
            "Enter the amount to deposit: 8000\n",
            "\n",
            "\u001b[32mDeposited: 8000.0 💰\n",
            "Account Number: 6916619941\n",
            "Account Holder: Janaki\n",
            "KYC Number: KLJHH1233K\n",
            "Branch: Hyd\n",
            "IFSC: HDFC00202\n",
            "Account Type: Savings at 2024-06-12 10:06:26 AM\n",
            "Current Balance: 8000.0\n",
            "\n",
            "Please select an options : \n",
            "1. Deposit Money \n",
            "2. Withdraw Money \n",
            "3. Quit\n",
            "Enter your choice (1/2/3) :2\n",
            "                                        *** WITHDRAW MONEY ***\n",
            "Enter the amount to withdraw: 2000\n",
            "\n",
            "\u001b[31mDebited: 2000.0 💰\n",
            "Account Number: 6916619941\n",
            "Account Holder: Janaki\n",
            "KYC Number: KLJHH1233K\n",
            "Branch: Hyd\n",
            "IFSC: HDFC00202\n",
            "Account Type: Savings at 2024-06-12 10:07:19 AM\n",
            "\n",
            "Remaining Balance: 6000.0💰\n",
            "\n",
            "Please select an options : \n",
            "1. Deposit Money \n",
            "2. Withdraw Money \n",
            "3. Quit\n",
            "Enter your choice (1/2/3) :3\n",
            "\u001b[32m                                             Thank you for visiting! 😃\n"
          ]
        }
      ]
    },
    {
      "cell_type": "code",
      "execution_count": 14,
      "metadata": {
        "colab": {
          "base_uri": "https://localhost:8080/"
        },
        "id": "4N-sPBknP2tR",
        "outputId": "f767c230-5e2d-415b-8a5c-77c298e0e457"
      },
      "outputs": [
        {
          "output_type": "stream",
          "name": "stdout",
          "text": [
            "\u001b[32mAccount Holder Janaki for Account Number 3894355393 and Type of account(Current/Savings) Savings\n",
            "\n",
            "Select below options \n",
            "1. View Account Balance \n",
            "2. A/c Statement - Current & Previous Month \n",
            "3. A/c Statement Upto 5 Years \n",
            "4. Quit \n",
            "4\n",
            "                                        ### Thank you for visiting! ###😊\n"
          ]
        }
      ],
      "source": [
        "import calendar\n",
        "from datetime import datetime, timedelta\n",
        "\n",
        "def enquiry(account_number, account_type, username, balance):\n",
        "  while True:\n",
        "    try:\n",
        "        print(Fore.GREEN + f\"Account Holder {username} for Account Number {account_number} and Type of account(Current/Savings) {account_type}\\n\")\n",
        "        ch = input(\"Select below options \\n1. View Account Balance \\n2. A/c Statement - Current & Previous Month \\n3. A/c Statement Upto 5 Years \\n4. Quit \\n\")\n",
        "\n",
        "        if ch == \"1\":\n",
        "            print(\" \" * 30 + f\"Hi..{username}, Your Account Balance is {balance}\\U0001F4B0\\n\")\n",
        "            continue\n",
        "        elif ch == \"2\":\n",
        "            generate_account_statement()\n",
        "            continue\n",
        "        elif ch == \"3\":\n",
        "            generate_account_statement_up_to_5_years()\n",
        "            continue\n",
        "        elif ch == \"4\":\n",
        "          print(\" \" * 40 + \"### Thank you for visiting! ###\\U0001F60A\")\n",
        "          break\n",
        "        else:\n",
        "            print(\"Invalid option.\\U0001F61F\")\n",
        "    except KeyboardInterrupt:\n",
        "        print(\"\\nProcess interrupted. Thank you for using the enquiry system. Goodbye!\")\n",
        "    except Exception as e:\n",
        "        print(f\"An error occurred: {e}\")\n",
        "\n",
        "def generate_account_statement():\n",
        "    try:\n",
        "        current_date = datetime.now()\n",
        "        first_day_current_month = current_date.replace(day=1)\n",
        "        last_day_previous_month = first_day_current_month - timedelta(days=1)\n",
        "        first_day_previous_month = last_day_previous_month.replace(day=1)\n",
        "\n",
        "        print(\" \" * 35 + \"Current Month : {} {}\".format(calendar.month_name[current_date.month], current_date.year ))\n",
        "        print(\" \" * 30 + \"A/c statement for the current month....\\n\")\n",
        "        print(\" \" * 35 + \"Previous Month : {} {}\".format(calendar.month_name[first_day_previous_month.month], first_day_previous_month.year))\n",
        "        print(\" \" * 30 + \"A/c statement for the previous month...\\n\")\n",
        "\n",
        "    except Exception :\n",
        "        print(\"An error occurred while generating the account statement.\")\n",
        "\n",
        "def generate_account_statement_up_to_5_years():\n",
        "    try:\n",
        "        current_year = datetime.now().year\n",
        "        start_year = current_year - 4\n",
        "        print(\" \" * 25 + \"A/c statement for the past 5 years..\\U0001F4DC\")\n",
        "\n",
        "        for year in range(start_year, current_year + 1):\n",
        "            print(\" \" * 5 + \"-------------------\")\n",
        "            print(\" \" * 10 + \"Year:\", year)\n",
        "            print(\" \" * 5 + \"-------------------\")\n",
        "            for month in range(1, 13):\n",
        "                print(\" \" * 10 + \"Month:\", calendar.month_name[month])\n",
        "                print()\n",
        "    except Exception:\n",
        "        print(\"An error occurred while generating the account statement for the past 5 years.\")\n",
        "\n",
        "\n",
        "enquiry(account_number, account_type, username, balance)\n"
      ]
    },
    {
      "cell_type": "markdown",
      "metadata": {
        "id": "FSzQCvv1yWg5"
      },
      "source": []
    },
    {
      "cell_type": "markdown",
      "metadata": {
        "id": "w2O58FoqxYCM"
      },
      "source": [
        "# Loans Application"
      ]
    },
    {
      "cell_type": "code",
      "execution_count": null,
      "metadata": {
        "colab": {
          "base_uri": "https://localhost:8080/"
        },
        "id": "gC_03L5RA8en",
        "outputId": "ba563082-fc32-4586-edf2-1c7d5e51f1e2"
      },
      "outputs": [
        {
          "output_type": "stream",
          "name": "stdout",
          "text": [
            "\n",
            "========================================================================================================\n",
            "                                    ******* WELCOME TO LOAN APPLICATION *******\n",
            "========================================================================================================\n",
            "Enter your monthly salary: 50000\n",
            "Enter your username: Jani\n",
            "Enter mobile number: 9030202030\n",
            "\n",
            "Enter Date of birth: 1/1/2000\n",
            "\n",
            "\n",
            "Account holder: Jani\n",
            "Account number: 8440217036\n",
            "KYC number: KLDJL1234K\n",
            "IFSC: HDFC000233\n",
            "Account Type: Current\n",
            "Enter your CIBIL score: 700\n",
            "                              Your CIBIL score is Good. Your loan is waiting for approval status.\n",
            "Do you want to continue (y/n): y\n",
            "\n",
            "Select loan type\n",
            "1. Personal Loan\n",
            "2. Auto Loan\n",
            "3. Two-Wheeler Loan\n",
            "4. Home Loan\n",
            "5. Quit: \n",
            "\n",
            "Enter your choice (1-5): 1\n",
            "Enter loan amount: 400000\n",
            "Enter loan term (in years): 2\n",
            "\n",
            "Monthly payment: 17192.48\n",
            "\n",
            "                                             Thank you for using Loan visiting.😊\n"
          ]
        }
      ],
      "source": [
        "\n",
        "def calculate_monthly_payment(loan_amount, annual_interest_rate, loan_term_years):\n",
        "    monthly_interest_rate = annual_interest_rate / 12 / 100\n",
        "    monthly_payment = (loan_amount * monthly_interest_rate) / (1 - (1 + monthly_interest_rate) ** (-loan_term_years * 12))\n",
        "    return monthly_payment\n",
        "\n",
        "def main():\n",
        "    print()\n",
        "    print(\"========================================================================================================\")\n",
        "    print(\" \" * 35 + \" ******* WELCOME TO LOAN APPLICATION *******\")\n",
        "    print(\"========================================================================================================\")\n",
        "    try:\n",
        "        while True:\n",
        "            try:\n",
        "                salary = float(input(\"Enter your monthly salary: \"))\n",
        "                if salary < 50000:\n",
        "                    print(\"Sorry, you are not eligible for any loan with a salary below 50,000.\")\n",
        "                    continue\n",
        "            except ValueError:\n",
        "                print(\"Invalid input. Please enter a numeric value for salary.\\U0001F61F\")\n",
        "                continue\n",
        "\n",
        "            username = input(\"Enter your username: \")\n",
        "            try:\n",
        "                if username in user_credentials:\n",
        "                    user_details = user_credentials[username]\n",
        "                    mobile_number = input(\"Enter mobile number: \")\n",
        "                    if mobile_number == user_details[\"Mobile No\"]:\n",
        "                        print()\n",
        "                    else:\n",
        "                        print(\"Your mobile number is invalid. Please enter a valid mobile number.\\U0001F61F\")\n",
        "                        continue\n",
        "\n",
        "                    date_of_birth = input(\"Enter Date of birth: \")\n",
        "                    if date_of_birth == user_details[\"DOB\"]:\n",
        "                        print()\n",
        "                    else:\n",
        "                        print(\"Your Date of birth is Invalid. Please enter a valid date of birth.\\U0001F61F\")\n",
        "                        continue\n",
        "                    try:\n",
        "                        print(f\"\\nAccount holder: {username}\\nAccount number: {account_number}\\nKYC number: {kyc_number}\\nIFSC: {ifsc}\\nAccount Type: {account_type}\")\n",
        "                    except NameError:\n",
        "                        print(\"Your account information is missing. Please check the account details.\\U0001F61F\")\n",
        "                        continue\n",
        "\n",
        "                    while True:\n",
        "                        try:\n",
        "                            cibil_score = int(input(\"Enter your CIBIL score: \"))\n",
        "                            if cibil_score >= 800:\n",
        "                                print(\"Your CIBIL score is Excellent! Congratulations, your loan is the approved status Please complete soon the next step..\")\n",
        "                            elif 700 <= cibil_score < 800:\n",
        "                                print(\" \" * 30 +\"Your CIBIL score is Good. Your loan is waiting for approval status.\")\n",
        "                            elif 600 <= cibil_score < 700:\n",
        "                                print(\" \" * 30 +\"Your CIBIL score is Fair. Your loan needs verification by the manager.\")\n",
        "                            elif 500 <= cibil_score < 600:\n",
        "                                print(\" \" * 35 +\"Your CIBIL score is Poor. Sorry, your loan is rejected.\")\n",
        "                            else:\n",
        "                                print(\" \" * 35 +\"Your CIBIL score is too low. Sorry, your loan is rejected.\")\n",
        "                                continue\n",
        "                            break\n",
        "                        except ValueError:\n",
        "                            print(\"Please enter a valid CIBIL score.\")\n",
        "\n",
        "                    ch = input(\"Do you want to continue (y/n): \")\n",
        "                    if ch.lower() != 'y':\n",
        "                        break\n",
        "\n",
        "                    print(\"\\nSelect loan type\\n1. Personal Loan\\n2. Auto Loan\\n3. Two-Wheeler Loan\\n4. Home Loan\\n5. Quit: \\n\")\n",
        "                    choice = input(\"Enter your choice (1-5): \")\n",
        "\n",
        "                    if choice in [\"1\", \"2\", \"3\", \"4\"]:\n",
        "                        annual_interest_rate = None\n",
        "                        if choice == \"1\":\n",
        "                            annual_interest_rate = 3\n",
        "                        elif choice == \"2\":\n",
        "                            annual_interest_rate = 3.5\n",
        "                        elif choice == \"3\":\n",
        "                            annual_interest_rate = 4\n",
        "                        elif choice == \"4\":\n",
        "                            annual_interest_rate = 4.5\n",
        "                        try:\n",
        "                            loan_amount = float(input(\"Enter loan amount: \"))\n",
        "                            loan_term_years = int(input(\"Enter loan term (in years): \"))\n",
        "\n",
        "                            monthly_payment = calculate_monthly_payment(loan_amount, annual_interest_rate, loan_term_years)\n",
        "                            print(f\"\\nMonthly payment: {round(monthly_payment, 2)}\\n\")\n",
        "                            print(\" \" * 45 + \"Thank you for using Loan visiting.\\U0001F60A\")\n",
        "                        except ValueError:\n",
        "                            print(\" \" * 10 +\"Invalid input. Please enter numeric values for loan amount and loan term.\")\n",
        "                        break\n",
        "                    elif choice == \"5\":\n",
        "                        print(\" \" * 45 + \"Thank you for using Loan visiting. Goodbye!\\U0001F60A\")\n",
        "                        break\n",
        "                    else:\n",
        "                        print(\" \" * 25 + \"Invalid choice. Please select a valid option.\\U0001F61F\")\n",
        "                else:\n",
        "                    print(\"Username not found. Please enter a valid username.\\U0001F61F\")\n",
        "            except NameError:\n",
        "                print(\"User credentials are not defined. Please check the user details.\\U0001F61F\")\n",
        "                break\n",
        "    except KeyboardInterrupt:\n",
        "        print(\"\\nProcess interrupted. Thank you for using the loan application. Goodbye!.\\U0001F60A\")\n",
        "\n",
        "main()\n"
      ]
    }
  ],
  "metadata": {
    "colab": {
      "provenance": [],
      "authorship_tag": "ABX9TyP9UauBX1J/GWvd5bCJNgHt",
      "include_colab_link": true
    },
    "kernelspec": {
      "display_name": "Python 3",
      "name": "python3"
    },
    "language_info": {
      "name": "python"
    }
  },
  "nbformat": 4,
  "nbformat_minor": 0
}